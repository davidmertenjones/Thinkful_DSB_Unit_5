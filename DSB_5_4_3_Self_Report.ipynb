{
 "cells": [
  {
   "cell_type": "markdown",
   "metadata": {},
   "source": [
    "# DRILL: When to use surveys\n",
    "\n",
    "## State whether a survey would be the best option for answering each of the following questions.\n",
    "\n",
    "* Popularity of various Uber drivers.\n",
    "\n",
    "Behavioral study - a survey might tend to include only the strongest positive/negative sentiments about the drivers.\n",
    "\n",
    "\n",
    "* A grocery store wants to know how much people like strawberry, chocolate, and vanilla ice cream.\n",
    "\n",
    "Behavioral study - a survey could work if there is an external incentive to take part in it.\n",
    "\n",
    "\n",
    "* Trojan wants to know whether their condoms are more popular among straight people or gay people.\n",
    "\n",
    "Survey - even as a survey, there may be sample bias, but without a survey, there is no data.\n",
    "\n",
    "\n",
    "* Recently, rental rates for HappyCars have increased by 30%, which is quite unusual. You want to find out why this is happening and how to keep the increase going.\n",
    "\n",
    "Survey - assuming other factors have been ruled out.\n",
    "\n",
    "\n",
    "* Assessing the success rate of a new advertising campaign.\n",
    "\n",
    "Behavioral study - A/B test. A survey could be used to ascertain customer sentiment towards the survey, but looking at sales directly is probably better.\n",
    "\n",
    "\n",
    "* Measuring the effect of nurse/patient ratio on patient recovery rates in hospital wards.\n",
    "\n",
    "Behavioral study - a survey for either nurses or patients is likely to provide an incomplete picture. Here it is better to look at the big picture, and record data on patient recovery rates."
   ]
  }
 ],
 "metadata": {
  "kernelspec": {
   "display_name": "Python 3",
   "language": "python",
   "name": "python3"
  },
  "language_info": {
   "codemirror_mode": {
    "name": "ipython",
    "version": 3
   },
   "file_extension": ".py",
   "mimetype": "text/x-python",
   "name": "python",
   "nbconvert_exporter": "python",
   "pygments_lexer": "ipython3",
   "version": "3.6.8"
  },
  "toc": {
   "base_numbering": 1,
   "nav_menu": {},
   "number_sections": true,
   "sideBar": true,
   "skip_h1_title": false,
   "title_cell": "Table of Contents",
   "title_sidebar": "Contents",
   "toc_cell": false,
   "toc_position": {},
   "toc_section_display": true,
   "toc_window_display": false
  },
  "varInspector": {
   "cols": {
    "lenName": 16,
    "lenType": 16,
    "lenVar": 40
   },
   "kernels_config": {
    "python": {
     "delete_cmd_postfix": "",
     "delete_cmd_prefix": "del ",
     "library": "var_list.py",
     "varRefreshCmd": "print(var_dic_list())"
    },
    "r": {
     "delete_cmd_postfix": ") ",
     "delete_cmd_prefix": "rm(",
     "library": "var_list.r",
     "varRefreshCmd": "cat(var_dic_list()) "
    }
   },
   "types_to_exclude": [
    "module",
    "function",
    "builtin_function_or_method",
    "instance",
    "_Feature"
   ],
   "window_display": false
  }
 },
 "nbformat": 4,
 "nbformat_minor": 2
}
